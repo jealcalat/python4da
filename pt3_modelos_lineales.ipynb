{
 "cells": [
  {
   "attachments": {},
   "cell_type": "markdown",
   "metadata": {},
   "source": [
    "# Introducción al ajuste de modelos lineales y no lineales\n",
    "\n",
    "\n",
    "Un modelo lineal es una función que se puede escribir como una combinación lineal de parámetros. Por ejemplo, el modelo lineal más simple es una recta:\n",
    "\n",
    "$$\n",
    "y = a + bx\n",
    "$$\n",
    "\n",
    "donde $a$ y $b$ son los parámetros del modelo. En este caso, el modelo lineal es una función de una sola variable, $x$. En general, un modelo lineal puede ser una función de $n$ variables:\n",
    "\n",
    "$$\n",
    "y = a_0 + a_1x_1 + a_2x_2 + \\dots + a_nx_n\n",
    "$$\n",
    "\n",
    "Aquí nos restrigiremos a modelos lineales de una sola variable, para ejemplificar. "
   ]
  },
  {
   "attachments": {},
   "cell_type": "markdown",
   "metadata": {},
   "source": [
    "<p>En la siguiente figura del artículo de Reed (2009).<sup><a href=\"#fn1\" id=\"ref1\">1</a></sup></p>\n",
    "\n",
    "<center>\n",
    "  <img src=\"image/matching.jpeg\" width=\"600\">\n",
    "</center>\n",
    "\n",
    "Los autores ilustran cómo utilizar la ecuación de igualación para analizar datos de evaluación descriptiva de un estudiante con comportamiento fuera de su asiento. Registran la duración del comportamiento en el asiento y fuera del asiento, así como el número de declaraciones de atención de otros durante cada comportamiento.\n",
    "\n",
    "<ol>\n",
    "  <li id=\"fn1\">\n",
    "    <p>Reed, D. D. (2009). Using Microsoft Office Excel® 2007 to conduct generalized matching analyses. Journal of Applied Behavior Analysis, 42(4), 867-875. https://doi.org/10.1901/jaba.2009.42-867.<a href=\"#ref1\">↩</a></p>\n",
    "  </li>\n",
    "</ol>\n"
   ]
  },
  {
   "cell_type": "code",
   "execution_count": 7,
   "metadata": {},
   "outputs": [],
   "source": [
    "import pandas as pd\n",
    "import numpy as np\n",
    "import matplotlib.pyplot as plt\n",
    "\n",
    "b1 = [26, 38, 41, 45, 50]\n",
    "b2 = [34, 22, 19, 15, 10]\n",
    "r1 = [11, 15, 16, 18, 17]\n",
    "r2 = [13, 10, 6, 3, 2]\n",
    "# crear dataframe\n",
    "matching_data = pd.DataFrame({'b1': b1, 'b2': b2, 'r1': r1, 'r2': r2})"
   ]
  },
  {
   "cell_type": "code",
   "execution_count": 15,
   "metadata": {},
   "outputs": [
    {
     "data": {
      "text/plain": [
       "Text(0.5, 0, 'r1/r2')"
      ]
     },
     "execution_count": 15,
     "metadata": {},
     "output_type": "execute_result"
    },
    {
     "data": {
      "image/png": "[encoded data removed]",
      "text/plain": [
       "<Figure size 640x480 with 1 Axes>"
      ]
     },
     "metadata": {},
     "output_type": "display_data"
    }
   ],
   "source": [
    "# graficar la razón de b1/b2 vs r1/r2\n",
    "plt.scatter(matching_data['r1']/matching_data['r2'], matching_data['b1']/matching_data['b2'])\n",
    "plt.ylabel('b1/b2')\n",
    "plt.xlabel('r1/r2')"
   ]
  },
  {
   "cell_type": "code",
   "execution_count": 16,
   "metadata": {},
   "outputs": [
    {
     "ename": "AttributeError",
     "evalue": "module 'matplotlib.pyplot' has no attribute 'yabel'",
     "output_type": "error",
     "traceback": [
      "\u001b[0;31m---------------------------------------------------------------------------\u001b[0m",
      "\u001b[0;31mAttributeError\u001b[0m                            Traceback (most recent call last)",
      "\u001b[0;32m/tmp/ipykernel_89961/3392065102.py\u001b[0m in \u001b[0;36m<module>\u001b[0;34m\u001b[0m\n\u001b[1;32m      2\u001b[0m plt.scatter(np.log10(matching_data['r1']/matching_data['r2']), \n\u001b[1;32m      3\u001b[0m             np.log10(matching_data['b1']/matching_data['b2']))\n\u001b[0;32m----> 4\u001b[0;31m \u001b[0mplt\u001b[0m\u001b[0;34m.\u001b[0m\u001b[0myabel\u001b[0m\u001b[0;34m(\u001b[0m\u001b[0;34m'log10 (b1/b2)'\u001b[0m\u001b[0;34m)\u001b[0m\u001b[0;34m\u001b[0m\u001b[0;34m\u001b[0m\u001b[0m\n\u001b[0m\u001b[1;32m      5\u001b[0m \u001b[0mplt\u001b[0m\u001b[0;34m.\u001b[0m\u001b[0mxlabel\u001b[0m\u001b[0;34m(\u001b[0m\u001b[0;34m'log10 (r1/r2)'\u001b[0m\u001b[0;34m)\u001b[0m\u001b[0;34m\u001b[0m\u001b[0;34m\u001b[0m\u001b[0m\n",
      "\u001b[0;31mAttributeError\u001b[0m: module 'matplotlib.pyplot' has no attribute 'yabel'"
     ]
    },
    {
     "data": {
      "image/png": "[encoded data removed]",
      "text/plain": [
       "<Figure size 640x480 with 1 Axes>"
      ]
     },
     "metadata": {},
     "output_type": "display_data"
    }
   ],
   "source": [
    "# graficar log10(b1/b2) vs log10(r1/r2)\n",
    "plt.scatter(np.log10(matching_data['r1']/matching_data['r2']), \n",
    "            np.log10(matching_data['b1']/matching_data['b2']))\n",
    "plt.yabel('log10 (b1/b2)')\n",
    "plt.xlabel('log10 (r1/r2)')"
   ]
  },
  {
   "attachments": {},
   "cell_type": "markdown",
   "metadata": {},
   "source": [
    "Los datos no son enteramente lineales, pero se puede ajustar un modelo lineal a los datos. En este caso, el modelo lineal es una aproximación de los datos, y no necesaraimente representa el proceso real suyacente. Sin embargo, el modelo lineal puede ser útil para predecir el comportamiento de un estudiante en el futuro, o para comparar el comportamiento de un estudiante con el de otros estudiantes, en la medida en que el modelo lineal no varíe mucho de los datos reales.\n",
    "\n",
    "Vamos a ajustar un modelo lineal con la siguiente forma:\n",
    "\n",
    "$$\n",
    " \\log_{10}(B_1/B_2) = a + b \\log_{10}(R_1/R_2)\n",
    "$$"
   ]
  },
  {
   "cell_type": "code",
   "execution_count": null,
   "metadata": {},
   "outputs": [],
   "source": [
    "# ajustar una recta a los datos"
   ]
  }
 ],
 "metadata": {
  "kernelspec": {
   "display_name": "base",
   "language": "python",
   "name": "python3"
  },
  "language_info": {
   "codemirror_mode": {
    "name": "ipython",
    "version": 3
   },
   "file_extension": ".py",
   "mimetype": "text/x-python",
   "name": "python",
   "nbconvert_exporter": "python",
   "pygments_lexer": "ipython3",
   "version": "3.9.13"
  },
  "orig_nbformat": 4
 },
 "nbformat": 4,
 "nbformat_minor": 2
}
