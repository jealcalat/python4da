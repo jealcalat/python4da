{
 "cells": [
  {
   "attachments": {},
   "cell_type": "markdown",
   "metadata": {},
   "source": [
    "#  Introducción a Numpy, Pandas y matplotlib para el análisis de datos\n",
    "\n",
    "**Nota sobre la notación punto**\n",
    "\n",
    "La notación punto es una forma de acceder a los atributos de un objeto. Si `x` es un objeto, `x.atributo` es una forma de acceder al atributo `atributo` del objeto `x`. Por ejemplo, si `x` es un arreglo de `numpy`, `x.shape` es un atributo que nos dice la forma del arreglo. En este caso, `x.shape` es una tupla con el número de filas y columnas del arreglo. Si `x` es un dataframe de `pandas`, `x.columns` es un atributo que nos dice el nombre de las columnas del dataframe, o si `x` es un vector numérico de `pandas` o `numpy`, `x.mean()` es un método que nos calcula la media del vector.\n",
    "\n",
    "## Numpy\n",
    "\n",
    "Numpy es una librería de Python que nos permite trabajar con vectores y matrices de forma eficiente. Es una de las librerías más importantes para el análisis de datos en Python. Pero primerto, ¿qué es un vector y qué es una matriz?\n",
    "\n",
    "*Vector:* en `numpy` un vector es una colección de una dimensión. Se puede pensar como valores en una columna de una tabla. Por ejemplo, la edad de los alumnos de una clase.\n",
    "\n",
    "*Matriz:* en `numpy` una matriz es una colección de dos dimensiones. Se puede pensar como una tabla. Por ejemplo, la edad y la altura de los alumnos de una clase.\n",
    "\n",
    "*Arreglo:* a su vez, un arreglo es una colección de *p* dimensiones. Por ejemplo, la edad, la altura y el peso de los alumnos de una clase es una matriz de 3 dimensiones. Los arreglos es una forma general de referirse a vectores y matrices en cualquier dimensión. \n",
    "\n",
    "A diferencia de las listas, los arreglos de `numpy` son homogéneos, es decir, todos los elementos deben ser del mismo tipo. Por ejemplo, todos los elementos de un arreglo pueden ser enteros o flotantes, pero no una mezcla de ambos."
   ]
  },
  {
   "cell_type": "code",
   "execution_count": 2,
   "metadata": {},
   "outputs": [
    {
     "name": "stdout",
     "output_type": "stream",
     "text": [
      "[1 2 3]\n"
     ]
    }
   ],
   "source": [
    "# Crear un vector con numpy\n",
    "import numpy as np\n",
    "\n",
    "vector = np.array([1, 2, 3])\n",
    "print(vector)"
   ]
  },
  {
   "attachments": {},
   "cell_type": "markdown",
   "metadata": {},
   "source": [
    "Recordaremos que si teníamos una lista `x = [1, 2, 3]` y multiplicábamos la lista por 2, obteníamos una lista con los elementos repetidos: `x * 2 = [1, 2, 3, 1, 2, 3]`. En cambio, si tenemos un arreglo `y = np.array([1, 2, 3])` y lo multiplicamos por 2, obtenemos un arreglo con los elementos multiplicados por 2: `y * 2 = np.array([2, 4, 6])`."
   ]
  },
  {
   "cell_type": "code",
   "execution_count": 3,
   "metadata": {},
   "outputs": [
    {
     "data": {
      "text/plain": [
       "array([2, 4, 6])"
      ]
     },
     "execution_count": 3,
     "metadata": {},
     "output_type": "execute_result"
    }
   ],
   "source": [
    "vector  = np.array([1, 2, 3])\n",
    "vector  * 2"
   ]
  },
  {
   "attachments": {},
   "cell_type": "markdown",
   "metadata": {},
   "source": [
    "Podemos convertir una lista en un arreglo con la función `np.array()`."
   ]
  },
  {
   "cell_type": "code",
   "execution_count": 4,
   "metadata": {},
   "outputs": [
    {
     "data": {
      "text/plain": [
       "array([1, 2, 3])"
      ]
     },
     "execution_count": 4,
     "metadata": {},
     "output_type": "execute_result"
    }
   ],
   "source": [
    "x = [1, 2, 3]\n",
    "np.array(x)"
   ]
  },
  {
   "attachments": {},
   "cell_type": "markdown",
   "metadata": {},
   "source": [
    "O hacerlo directamente en la definición del arreglo: `np.array([1, 2, 3])`."
   ]
  },
  {
   "cell_type": "code",
   "execution_count": 5,
   "metadata": {},
   "outputs": [
    {
     "data": {
      "text/plain": [
       "array([1, 2, 3])"
      ]
     },
     "execution_count": 5,
     "metadata": {},
     "output_type": "execute_result"
    }
   ],
   "source": [
    "np.array([1, 2, 3])"
   ]
  },
  {
   "cell_type": "code",
   "execution_count": 6,
   "metadata": {},
   "outputs": [
    {
     "name": "stdout",
     "output_type": "stream",
     "text": [
      "x * 2 = [1, 2, 3, 1, 2, 3]\n"
     ]
    }
   ],
   "source": [
    "print(f'x * 2 = {x * 2}')"
   ]
  },
  {
   "cell_type": "code",
   "execution_count": 7,
   "metadata": {},
   "outputs": [
    {
     "name": "stdout",
     "output_type": "stream",
     "text": [
      "y * 2 = [2 4 6]\n"
     ]
    }
   ],
   "source": [
    "y = np.array(x)\n",
    "print(f'y * 2 = {y * 2}')"
   ]
  },
  {
   "cell_type": "code",
   "execution_count": 8,
   "metadata": {},
   "outputs": [
    {
     "data": {
      "text/plain": [
       "0.048732020049211504"
      ]
     },
     "execution_count": 8,
     "metadata": {},
     "output_type": "execute_result"
    }
   ],
   "source": [
    "# obtener un vector de valores aleatorios normalmente distribuidos con media 0 y desviación estándar 1\n",
    "x = np.random.normal(0, 1, 100)\n",
    "# la media muestral\n",
    "x.mean()"
   ]
  },
  {
   "cell_type": "code",
   "execution_count": 9,
   "metadata": {},
   "outputs": [
    {
     "data": {
      "text/plain": [
       "1.1221611182558613"
      ]
     },
     "execution_count": 9,
     "metadata": {},
     "output_type": "execute_result"
    }
   ],
   "source": [
    "# desviación estándar muestral\n",
    "x.std()"
   ]
  },
  {
   "cell_type": "code",
   "execution_count": 10,
   "metadata": {},
   "outputs": [
    {
     "data": {
      "text/plain": [
       "-2.4248925513820003"
      ]
     },
     "execution_count": 10,
     "metadata": {},
     "output_type": "execute_result"
    }
   ],
   "source": [
    "# el valor mínimo\n",
    "x.min()"
   ]
  },
  {
   "cell_type": "code",
   "execution_count": 11,
   "metadata": {},
   "outputs": [
    {
     "data": {
      "text/plain": [
       "2.974511637595545"
      ]
     },
     "execution_count": 11,
     "metadata": {},
     "output_type": "execute_result"
    }
   ],
   "source": [
    "# el valor máximo\n",
    "x.max()"
   ]
  },
  {
   "cell_type": "code",
   "execution_count": 12,
   "metadata": {},
   "outputs": [
    {
     "data": {
      "text/plain": [
       "5.399404188977545"
      ]
     },
     "execution_count": 12,
     "metadata": {},
     "output_type": "execute_result"
    }
   ],
   "source": [
    "# el rango\n",
    "x.max() - x.min()"
   ]
  },
  {
   "attachments": {},
   "cell_type": "markdown",
   "metadata": {},
   "source": [
    "Si queremos tomar \"rebanadas\" de un arreglo, podemos usar la notación `x[inicio:fin]`. Por ejemplo, si `x = np.array([1, 2, 3, 4, 5])`, entonces `x[1:3]` nos da `np.array([2, 3])`. Si no especificamos el inicio, se asume que es el principio del arreglo. Si no especificamos el fin, se asume que es el final del arreglo. Por ejemplo, `x[:3] = np.array([1, 2, 3])` y `x[3:] = np.array([4, 5])`."
   ]
  },
  {
   "cell_type": "code",
   "execution_count": 25,
   "metadata": {},
   "outputs": [
    {
     "data": {
      "text/plain": [
       "array([-1.29946166, -0.58739004,  0.90217746, -1.02665538])"
      ]
     },
     "execution_count": 25,
     "metadata": {},
     "output_type": "execute_result"
    }
   ],
   "source": [
    "x[0:4] # primeros 4 valores de x"
   ]
  },
  {
   "attachments": {},
   "cell_type": "markdown",
   "metadata": {},
   "source": [
    "**Ejercicios:**\n",
    "\n",
    "1. Crea un arreglo con los números del 1 al 10.\n",
    "2. Obtén el cuadrado de cada elemento del arreglo anterior y asígnalo a `x_cuadrado`.\n",
    "3. Realiza la siguiente transformación (estandarización) a los elementos del arreglo anterior: \n",
    "\n",
    "$$z = \\frac{x - \\bar x}{s_x}$$\n",
    "\n",
    "en donde $\\bar x$ es la media del arreglo y $s_x$ es la desviación estándar del arreglo.\n",
    "4. Raliza la siguiente transformación\n",
    "\n",
    "$$x' = \\frac{x - \\min(x)}{\\max(x) - \\min(x)}$$\n",
    "\n",
    "conocida como *escalado* o *normalización* basada en el rango. \n",
    "5. Obtén el máximo, el mínimo, la media y la desviación estándar del arreglo original, de $z$ y de $x'$."
   ]
  },
  {
   "attachments": {},
   "cell_type": "markdown",
   "metadata": {},
   "source": [
    "## Pandas y matplotlib\n",
    "\n",
    "Pandas es una librería de Python que nos permite trabajar con datos tabulares. Es una de las librerías más importantes para el análisis de datos en Python. Es una librería que está construida sobre `numpy` y nos permite trabajar con datos tabulares de forma eficiente. Tiene dos estructuras de datos principales: `Series` y `DataFrame`. Resolveremos algunos ejemplos con DataFrame.\n",
    "\n",
    "Para cargar datos en formato csv, podemos usar la función `pd.read_csv()`. Por ejemplo, si tenemos un archivo llamado `datos.csv`, podemos cargarlo con `pd.read_csv('datos.csv')`. Si el archivo está en otra carpeta, podemos especificar la ruta completa. Por ejemplo, si el archivo está en la carpeta `data` que está dentro de la carpeta `nbs`, podemos cargarlo con `pd.read_csv('nbs/data/datos.csv')`.\n",
    "\n",
    "Para cargar datos en formato excel, podemos usar la función `pd.read_excel()`. Existen otras funciones para cargar datos en otros formatos, pero estas dos son las más comunes."
   ]
  },
  {
   "cell_type": "code",
   "execution_count": 14,
   "metadata": {},
   "outputs": [
    {
     "data": {
      "text/html": [
       "<div>\n",
       "<style scoped>\n",
       "    .dataframe tbody tr th:only-of-type {\n",
       "        vertical-align: middle;\n",
       "    }\n",
       "\n",
       "    .dataframe tbody tr th {\n",
       "        vertical-align: top;\n",
       "    }\n",
       "\n",
       "    .dataframe thead th {\n",
       "        text-align: right;\n",
       "    }\n",
       "</style>\n",
       "<table border=\"1\" class=\"dataframe\">\n",
       "  <thead>\n",
       "    <tr style=\"text-align: right;\">\n",
       "      <th></th>\n",
       "      <th>PassengerId</th>\n",
       "      <th>Survived</th>\n",
       "      <th>Pclass</th>\n",
       "      <th>Name</th>\n",
       "      <th>Sex</th>\n",
       "      <th>Age</th>\n",
       "      <th>SibSp</th>\n",
       "      <th>Parch</th>\n",
       "      <th>Ticket</th>\n",
       "      <th>Fare</th>\n",
       "      <th>Cabin</th>\n",
       "      <th>Embarked</th>\n",
       "    </tr>\n",
       "  </thead>\n",
       "  <tbody>\n",
       "    <tr>\n",
       "      <th>0</th>\n",
       "      <td>1</td>\n",
       "      <td>0</td>\n",
       "      <td>3</td>\n",
       "      <td>Braund, Mr. Owen Harris</td>\n",
       "      <td>male</td>\n",
       "      <td>22.0</td>\n",
       "      <td>1</td>\n",
       "      <td>0</td>\n",
       "      <td>A/5 21171</td>\n",
       "      <td>7.2500</td>\n",
       "      <td>NaN</td>\n",
       "      <td>S</td>\n",
       "    </tr>\n",
       "    <tr>\n",
       "      <th>1</th>\n",
       "      <td>2</td>\n",
       "      <td>1</td>\n",
       "      <td>1</td>\n",
       "      <td>Cumings, Mrs. John Bradley (Florence Briggs Th...</td>\n",
       "      <td>female</td>\n",
       "      <td>38.0</td>\n",
       "      <td>1</td>\n",
       "      <td>0</td>\n",
       "      <td>PC 17599</td>\n",
       "      <td>71.2833</td>\n",
       "      <td>C85</td>\n",
       "      <td>C</td>\n",
       "    </tr>\n",
       "    <tr>\n",
       "      <th>2</th>\n",
       "      <td>3</td>\n",
       "      <td>1</td>\n",
       "      <td>3</td>\n",
       "      <td>Heikkinen, Miss. Laina</td>\n",
       "      <td>female</td>\n",
       "      <td>26.0</td>\n",
       "      <td>0</td>\n",
       "      <td>0</td>\n",
       "      <td>STON/O2. 3101282</td>\n",
       "      <td>7.9250</td>\n",
       "      <td>NaN</td>\n",
       "      <td>S</td>\n",
       "    </tr>\n",
       "    <tr>\n",
       "      <th>3</th>\n",
       "      <td>4</td>\n",
       "      <td>1</td>\n",
       "      <td>1</td>\n",
       "      <td>Futrelle, Mrs. Jacques Heath (Lily May Peel)</td>\n",
       "      <td>female</td>\n",
       "      <td>35.0</td>\n",
       "      <td>1</td>\n",
       "      <td>0</td>\n",
       "      <td>113803</td>\n",
       "      <td>53.1000</td>\n",
       "      <td>C123</td>\n",
       "      <td>S</td>\n",
       "    </tr>\n",
       "    <tr>\n",
       "      <th>4</th>\n",
       "      <td>5</td>\n",
       "      <td>0</td>\n",
       "      <td>3</td>\n",
       "      <td>Allen, Mr. William Henry</td>\n",
       "      <td>male</td>\n",
       "      <td>35.0</td>\n",
       "      <td>0</td>\n",
       "      <td>0</td>\n",
       "      <td>373450</td>\n",
       "      <td>8.0500</td>\n",
       "      <td>NaN</td>\n",
       "      <td>S</td>\n",
       "    </tr>\n",
       "  </tbody>\n",
       "</table>\n",
       "</div>"
      ],
      "text/plain": [
       "   PassengerId  Survived  Pclass  \\\n",
       "0            1         0       3   \n",
       "1            2         1       1   \n",
       "2            3         1       3   \n",
       "3            4         1       1   \n",
       "4            5         0       3   \n",
       "\n",
       "                                                Name     Sex   Age  SibSp  \\\n",
       "0                            Braund, Mr. Owen Harris    male  22.0      1   \n",
       "1  Cumings, Mrs. John Bradley (Florence Briggs Th...  female  38.0      1   \n",
       "2                             Heikkinen, Miss. Laina  female  26.0      0   \n",
       "3       Futrelle, Mrs. Jacques Heath (Lily May Peel)  female  35.0      1   \n",
       "4                           Allen, Mr. William Henry    male  35.0      0   \n",
       "\n",
       "   Parch            Ticket     Fare Cabin Embarked  \n",
       "0      0         A/5 21171   7.2500   NaN        S  \n",
       "1      0          PC 17599  71.2833   C85        C  \n",
       "2      0  STON/O2. 3101282   7.9250   NaN        S  \n",
       "3      0            113803  53.1000  C123        S  \n",
       "4      0            373450   8.0500   NaN        S  "
      ]
     },
     "execution_count": 14,
     "metadata": {},
     "output_type": "execute_result"
    }
   ],
   "source": [
    "# usar la base de datos de titanic\n",
    "import pandas as pd\n",
    "import matplotlib.pyplot as plt\n",
    "\n",
    "# cargar el conjunto de datos de titanic\n",
    "\n",
    "# desde repositorio de github\n",
    "df = pd.read_csv('https://raw.githubusercontent.com/plotly/datasets/master/titanic.csv')\n",
    "# desde archivo local\n",
    "# df = pd.read_csv('../datasets/titanic.csv')\n",
    "\n",
    "# ver las primeras 5 filas\n",
    "df.head()"
   ]
  },
  {
   "attachments": {},
   "cell_type": "markdown",
   "metadata": {},
   "source": [
    "Las columnas son:\n",
    "\n",
    "* `age`: edad del pasajero\n",
    "* `sex`: sexo del pasajero\n",
    "* `pclass`: clase del pasajero\n",
    "* `survived`: si el pasajero sobrevivió o no\n",
    "* `name`: nombre del pasajero\n",
    "* `sibsp`: número de hermanos o esposos a bordo\n",
    "* `parch`: número de padres o hijos a bordo\n",
    "* `ticket`: número de ticket\n",
    "* `fare`: tarifa del pasajero\n",
    "* `cabin`: número de cabina\n",
    "* `embarked`: puerto de embarque"
   ]
  },
  {
   "attachments": {},
   "cell_type": "markdown",
   "metadata": {},
   "source": [
    "Descripción de los datos usando `pandas`, con el método `describe()`. Retorna un DataFrame con la media, la desviación estándar, el mínimo, el máximo y los cuartiles de los datos, por columna."
   ]
  },
  {
   "cell_type": "code",
   "execution_count": 15,
   "metadata": {},
   "outputs": [
    {
     "data": {
      "text/html": [
       "<div>\n",
       "<style scoped>\n",
       "    .dataframe tbody tr th:only-of-type {\n",
       "        vertical-align: middle;\n",
       "    }\n",
       "\n",
       "    .dataframe tbody tr th {\n",
       "        vertical-align: top;\n",
       "    }\n",
       "\n",
       "    .dataframe thead th {\n",
       "        text-align: right;\n",
       "    }\n",
       "</style>\n",
       "<table border=\"1\" class=\"dataframe\">\n",
       "  <thead>\n",
       "    <tr style=\"text-align: right;\">\n",
       "      <th></th>\n",
       "      <th>PassengerId</th>\n",
       "      <th>Survived</th>\n",
       "      <th>Pclass</th>\n",
       "      <th>Age</th>\n",
       "      <th>SibSp</th>\n",
       "      <th>Parch</th>\n",
       "      <th>Fare</th>\n",
       "    </tr>\n",
       "  </thead>\n",
       "  <tbody>\n",
       "    <tr>\n",
       "      <th>count</th>\n",
       "      <td>891.000000</td>\n",
       "      <td>891.000000</td>\n",
       "      <td>891.000000</td>\n",
       "      <td>714.000000</td>\n",
       "      <td>891.000000</td>\n",
       "      <td>891.000000</td>\n",
       "      <td>891.000000</td>\n",
       "    </tr>\n",
       "    <tr>\n",
       "      <th>mean</th>\n",
       "      <td>446.000000</td>\n",
       "      <td>0.383838</td>\n",
       "      <td>2.308642</td>\n",
       "      <td>29.699118</td>\n",
       "      <td>0.523008</td>\n",
       "      <td>0.381594</td>\n",
       "      <td>32.204208</td>\n",
       "    </tr>\n",
       "    <tr>\n",
       "      <th>std</th>\n",
       "      <td>257.353842</td>\n",
       "      <td>0.486592</td>\n",
       "      <td>0.836071</td>\n",
       "      <td>14.526497</td>\n",
       "      <td>1.102743</td>\n",
       "      <td>0.806057</td>\n",
       "      <td>49.693429</td>\n",
       "    </tr>\n",
       "    <tr>\n",
       "      <th>min</th>\n",
       "      <td>1.000000</td>\n",
       "      <td>0.000000</td>\n",
       "      <td>1.000000</td>\n",
       "      <td>0.420000</td>\n",
       "      <td>0.000000</td>\n",
       "      <td>0.000000</td>\n",
       "      <td>0.000000</td>\n",
       "    </tr>\n",
       "    <tr>\n",
       "      <th>25%</th>\n",
       "      <td>223.500000</td>\n",
       "      <td>0.000000</td>\n",
       "      <td>2.000000</td>\n",
       "      <td>20.125000</td>\n",
       "      <td>0.000000</td>\n",
       "      <td>0.000000</td>\n",
       "      <td>7.910400</td>\n",
       "    </tr>\n",
       "    <tr>\n",
       "      <th>50%</th>\n",
       "      <td>446.000000</td>\n",
       "      <td>0.000000</td>\n",
       "      <td>3.000000</td>\n",
       "      <td>28.000000</td>\n",
       "      <td>0.000000</td>\n",
       "      <td>0.000000</td>\n",
       "      <td>14.454200</td>\n",
       "    </tr>\n",
       "    <tr>\n",
       "      <th>75%</th>\n",
       "      <td>668.500000</td>\n",
       "      <td>1.000000</td>\n",
       "      <td>3.000000</td>\n",
       "      <td>38.000000</td>\n",
       "      <td>1.000000</td>\n",
       "      <td>0.000000</td>\n",
       "      <td>31.000000</td>\n",
       "    </tr>\n",
       "    <tr>\n",
       "      <th>max</th>\n",
       "      <td>891.000000</td>\n",
       "      <td>1.000000</td>\n",
       "      <td>3.000000</td>\n",
       "      <td>80.000000</td>\n",
       "      <td>8.000000</td>\n",
       "      <td>6.000000</td>\n",
       "      <td>512.329200</td>\n",
       "    </tr>\n",
       "  </tbody>\n",
       "</table>\n",
       "</div>"
      ],
      "text/plain": [
       "       PassengerId    Survived      Pclass         Age       SibSp  \\\n",
       "count   891.000000  891.000000  891.000000  714.000000  891.000000   \n",
       "mean    446.000000    0.383838    2.308642   29.699118    0.523008   \n",
       "std     257.353842    0.486592    0.836071   14.526497    1.102743   \n",
       "min       1.000000    0.000000    1.000000    0.420000    0.000000   \n",
       "25%     223.500000    0.000000    2.000000   20.125000    0.000000   \n",
       "50%     446.000000    0.000000    3.000000   28.000000    0.000000   \n",
       "75%     668.500000    1.000000    3.000000   38.000000    1.000000   \n",
       "max     891.000000    1.000000    3.000000   80.000000    8.000000   \n",
       "\n",
       "            Parch        Fare  \n",
       "count  891.000000  891.000000  \n",
       "mean     0.381594   32.204208  \n",
       "std      0.806057   49.693429  \n",
       "min      0.000000    0.000000  \n",
       "25%      0.000000    7.910400  \n",
       "50%      0.000000   14.454200  \n",
       "75%      0.000000   31.000000  \n",
       "max      6.000000  512.329200  "
      ]
     },
     "execution_count": 15,
     "metadata": {},
     "output_type": "execute_result"
    }
   ],
   "source": [
    "df.describe()"
   ]
  },
  {
   "attachments": {},
   "cell_type": "markdown",
   "metadata": {},
   "source": [
    "Se pueden tomar rebanadas de dataframes usando la notación `df[inicio:fin]`, similar a numpy, sin embargo, como los dataframes son arreglos de dos dimensiones, podemos usar la notación `df.iloc[inicio:fin, inicio:fin]` para tomar rebanadas de filas y columnas. Notar que los índices para las filas son el primer número y los índices para las columnas son el segundo número dentro de los corchetes. Por ejemplo, `df.iloc[1:3, 2:4]` nos da un dataframe con las filas 1 y 2 y las columnas 2 y 3. \n",
    "\n",
    "Otra forma de tomar rebanadas es usando el método `df.loc[inicio:fin]`. Por ejemplo, `df.loc[1:3]` nos da un dataframe con las filas 1, 2 y 3 de todas las columnas.\n",
    "\n",
    "Si solo queremos rebanadas de una columna, podemos usar la notación `df['columna'][inicio:fin]`. Por ejemplo, `df['age'][1:3]` nos da un arreglo con los elementos de la columna `age` de las filas 1 y 2."
   ]
  },
  {
   "cell_type": "code",
   "execution_count": 33,
   "metadata": {},
   "outputs": [
    {
     "data": {
      "text/html": [
       "<div>\n",
       "<style scoped>\n",
       "    .dataframe tbody tr th:only-of-type {\n",
       "        vertical-align: middle;\n",
       "    }\n",
       "\n",
       "    .dataframe tbody tr th {\n",
       "        vertical-align: top;\n",
       "    }\n",
       "\n",
       "    .dataframe thead th {\n",
       "        text-align: right;\n",
       "    }\n",
       "</style>\n",
       "<table border=\"1\" class=\"dataframe\">\n",
       "  <thead>\n",
       "    <tr style=\"text-align: right;\">\n",
       "      <th></th>\n",
       "      <th>PassengerId</th>\n",
       "      <th>Survived</th>\n",
       "      <th>Pclass</th>\n",
       "      <th>Name</th>\n",
       "      <th>Sex</th>\n",
       "      <th>Age</th>\n",
       "      <th>SibSp</th>\n",
       "      <th>Parch</th>\n",
       "      <th>Ticket</th>\n",
       "      <th>Fare</th>\n",
       "      <th>Cabin</th>\n",
       "      <th>Embarked</th>\n",
       "    </tr>\n",
       "  </thead>\n",
       "  <tbody>\n",
       "    <tr>\n",
       "      <th>1</th>\n",
       "      <td>2</td>\n",
       "      <td>1</td>\n",
       "      <td>1</td>\n",
       "      <td>Cumings, Mrs. John Bradley (Florence Briggs Th...</td>\n",
       "      <td>female</td>\n",
       "      <td>38.0</td>\n",
       "      <td>1</td>\n",
       "      <td>0</td>\n",
       "      <td>PC 17599</td>\n",
       "      <td>71.2833</td>\n",
       "      <td>C85</td>\n",
       "      <td>C</td>\n",
       "    </tr>\n",
       "    <tr>\n",
       "      <th>2</th>\n",
       "      <td>3</td>\n",
       "      <td>1</td>\n",
       "      <td>3</td>\n",
       "      <td>Heikkinen, Miss. Laina</td>\n",
       "      <td>female</td>\n",
       "      <td>26.0</td>\n",
       "      <td>0</td>\n",
       "      <td>0</td>\n",
       "      <td>STON/O2. 3101282</td>\n",
       "      <td>7.9250</td>\n",
       "      <td>NaN</td>\n",
       "      <td>S</td>\n",
       "    </tr>\n",
       "    <tr>\n",
       "      <th>3</th>\n",
       "      <td>4</td>\n",
       "      <td>1</td>\n",
       "      <td>1</td>\n",
       "      <td>Futrelle, Mrs. Jacques Heath (Lily May Peel)</td>\n",
       "      <td>female</td>\n",
       "      <td>35.0</td>\n",
       "      <td>1</td>\n",
       "      <td>0</td>\n",
       "      <td>113803</td>\n",
       "      <td>53.1000</td>\n",
       "      <td>C123</td>\n",
       "      <td>S</td>\n",
       "    </tr>\n",
       "  </tbody>\n",
       "</table>\n",
       "</div>"
      ],
      "text/plain": [
       "   PassengerId  Survived  Pclass  \\\n",
       "1            2         1       1   \n",
       "2            3         1       3   \n",
       "3            4         1       1   \n",
       "\n",
       "                                                Name     Sex   Age  SibSp  \\\n",
       "1  Cumings, Mrs. John Bradley (Florence Briggs Th...  female  38.0      1   \n",
       "2                             Heikkinen, Miss. Laina  female  26.0      0   \n",
       "3       Futrelle, Mrs. Jacques Heath (Lily May Peel)  female  35.0      1   \n",
       "\n",
       "   Parch            Ticket     Fare Cabin Embarked  \n",
       "1      0          PC 17599  71.2833   C85        C  \n",
       "2      0  STON/O2. 3101282   7.9250   NaN        S  \n",
       "3      0            113803  53.1000  C123        S  "
      ]
     },
     "execution_count": 33,
     "metadata": {},
     "output_type": "execute_result"
    }
   ],
   "source": [
    "# rebanadas de todas las columnas\n",
    "\n",
    "df.loc[1:3]"
   ]
  },
  {
   "cell_type": "code",
   "execution_count": 29,
   "metadata": {},
   "outputs": [
    {
     "data": {
      "text/html": [
       "<div>\n",
       "<style scoped>\n",
       "    .dataframe tbody tr th:only-of-type {\n",
       "        vertical-align: middle;\n",
       "    }\n",
       "\n",
       "    .dataframe tbody tr th {\n",
       "        vertical-align: top;\n",
       "    }\n",
       "\n",
       "    .dataframe thead th {\n",
       "        text-align: right;\n",
       "    }\n",
       "</style>\n",
       "<table border=\"1\" class=\"dataframe\">\n",
       "  <thead>\n",
       "    <tr style=\"text-align: right;\">\n",
       "      <th></th>\n",
       "      <th>Pclass</th>\n",
       "      <th>Name</th>\n",
       "    </tr>\n",
       "  </thead>\n",
       "  <tbody>\n",
       "    <tr>\n",
       "      <th>1</th>\n",
       "      <td>1</td>\n",
       "      <td>Cumings, Mrs. John Bradley (Florence Briggs Th...</td>\n",
       "    </tr>\n",
       "    <tr>\n",
       "      <th>2</th>\n",
       "      <td>3</td>\n",
       "      <td>Heikkinen, Miss. Laina</td>\n",
       "    </tr>\n",
       "  </tbody>\n",
       "</table>\n",
       "</div>"
      ],
      "text/plain": [
       "   Pclass                                               Name\n",
       "1       1  Cumings, Mrs. John Bradley (Florence Briggs Th...\n",
       "2       3                             Heikkinen, Miss. Laina"
      ]
     },
     "execution_count": 29,
     "metadata": {},
     "output_type": "execute_result"
    }
   ],
   "source": [
    "# rebanadas 1 y 2 de columnas específicas 2 y 3\n",
    "df.iloc[1:3, 2:4]"
   ]
  },
  {
   "cell_type": "code",
   "execution_count": 36,
   "metadata": {},
   "outputs": [
    {
     "data": {
      "text/plain": [
       "1    Cumings, Mrs. John Bradley (Florence Briggs Th...\n",
       "2                               Heikkinen, Miss. Laina\n",
       "Name: Name, dtype: object"
      ]
     },
     "execution_count": 36,
     "metadata": {},
     "output_type": "execute_result"
    }
   ],
   "source": [
    "# rebanadas de columna Name\n",
    "\n",
    "df['Name'].iloc[1:3]"
   ]
  },
  {
   "attachments": {},
   "cell_type": "markdown",
   "metadata": {},
   "source": [
    "Ahora usaremos `matplotlib` para graficar. `matplotlib` tiene dos formas de graficar: `pyplot` y `object-oriented`. Resolveremos algunos ejemplos con `pyplot`, que ya cargamos con el alias `plt`. Varios de los gráficos que haremos son exploratorios, es decir, son gráficos que nos permiten explorar los datos."
   ]
  },
  {
   "cell_type": "code",
   "execution_count": 16,
   "metadata": {},
   "outputs": [
    {
     "data": {
      "text/plain": [
       "Text(0, 0.5, 'Sobrevivieron')"
      ]
     },
     "execution_count": 16,
     "metadata": {},
     "output_type": "execute_result"
    },
    {
     "data": {
      "image/png": "[encoded data removed]",
      "text/plain": [
       "<Figure size 640x480 with 1 Axes>"
      ]
     },
     "metadata": {},
     "output_type": "display_data"
    }
   ],
   "source": [
    "# graficar si sobrevivieron o no como función de la edad\n",
    "\n",
    "# crear un gráfico de dispersión con la edad en el eje x y si sobrevivieron en el eje y\n",
    "# sobrevivientes\n",
    "plt.scatter(df['Age'],\n",
    "            df['Survived'],\n",
    "            c='blue',\n",
    "            alpha=0.5,\n",
    "            label='Sobrevivientes')\n",
    "# agregar etiquetas de los ejes\n",
    "plt.xlabel('Edad')\n",
    "plt.ylabel('Sobrevivieron')\n"
   ]
  },
  {
   "cell_type": "code",
   "execution_count": 17,
   "metadata": {},
   "outputs": [
    {
     "data": {
      "text/plain": [
       "Text(0, 0.5, 'Tarifa')"
      ]
     },
     "execution_count": 17,
     "metadata": {},
     "output_type": "execute_result"
    },
    {
     "data": {
      "image/png": "[encoded data removed]",
      "text/plain": [
       "<Figure size 640x480 with 1 Axes>"
      ]
     },
     "metadata": {},
     "output_type": "display_data"
    }
   ],
   "source": [
    "# Graficar tarifa como función de la edad con diferentes colores para los sobrevivientes y los que no\n",
    "\n",
    "# no sobrevivientes\n",
    "\n",
    "plt.scatter(df[df['Survived'] == 0]['Age'],\n",
    "            df[df['Survived'] == 0]['Fare'],\n",
    "            c='red',\n",
    "            alpha=0.5,\n",
    "            label='No sobrevivientes')\n",
    "\n",
    "plt.scatter(df[df['Survived'] == 1]['Age'],\n",
    "            df[df['Survived'] == 1]['Fare'],\n",
    "            c='green',\n",
    "            alpha=0.5,\n",
    "            label='Sobrevivientes')\n",
    "\n",
    "# agregar una leyenda\n",
    "plt.legend()\n",
    "# agregar etiquetas de los ejes\n",
    "plt.xlabel('Edad')\n",
    "plt.ylabel('Tarifa')"
   ]
  },
  {
   "cell_type": "code",
   "execution_count": 18,
   "metadata": {},
   "outputs": [
    {
     "data": {
      "image/png": "[encoded data removed]",
      "text/plain": [
       "<Figure size 640x480 with 1 Axes>"
      ]
     },
     "metadata": {},
     "output_type": "display_data"
    }
   ],
   "source": [
    "# histograma de la edad\n",
    "\n",
    "plt.hist(df['Age'], bins=20);"
   ]
  },
  {
   "cell_type": "code",
   "execution_count": 38,
   "metadata": {},
   "outputs": [
    {
     "data": {
      "text/plain": [
       "<matplotlib.legend.Legend at 0x7f8179b70ca0>"
      ]
     },
     "execution_count": 38,
     "metadata": {},
     "output_type": "execute_result"
    },
    {
     "data": {
      "image/png": "[encoded data removed]",
      "text/plain": [
       "<Figure size 640x480 with 1 Axes>"
      ]
     },
     "metadata": {},
     "output_type": "display_data"
    }
   ],
   "source": [
    " # distribución de la edad para los sobrevivientes y los que no\n",
    " # anadiremos otros elementos gráficos\n",
    " \n",
    "plt.hist(df[df['Survived'] == 0]['Age'], \n",
    "         color='blue', # color de las barritas\n",
    "         bins=20, # cantidad de barritas que tendrá el histograma\n",
    "         alpha=0.5, # transparencia\n",
    "         label='No sobrevivientes');\n",
    "plt.hist(df[df['Survived'] == 1]['Age'], \n",
    "         color='red',\n",
    "         bins=20, \n",
    "         alpha=0.5, \n",
    "         label='Sobrevivientes');\n",
    "plt.xlabel('Edad')\n",
    "plt.ylabel('Frecuencia')\n",
    "plt.legend(loc='upper right')"
   ]
  },
  {
   "cell_type": "code",
   "execution_count": 20,
   "metadata": {},
   "outputs": [
    {
     "data": {
      "image/png": "[encoded data removed]",
      "text/plain": [
       "<Figure size 640x480 with 1 Axes>"
      ]
     },
     "metadata": {},
     "output_type": "display_data"
    }
   ],
   "source": [
    "# con boxplots, usando las capacidades gráficas de pandas\n",
    "df.boxplot(column='Age', \n",
    "           by='Survived',\n",
    "           grid=False);"
   ]
  },
  {
   "attachments": {},
   "cell_type": "markdown",
   "metadata": {},
   "source": [
    "Para obtener algunos valores agrupados por alguna columna (categórica) usamos el método `groupby()` de `pandas`. Por ejemplo, vamos a explorar la supervivencia de los pasajeros por clase."
   ]
  },
  {
   "cell_type": "code",
   "execution_count": 21,
   "metadata": {},
   "outputs": [
    {
     "data": {
      "text/plain": [
       "Pclass\n",
       "1    136\n",
       "2     87\n",
       "3    119\n",
       "Name: Survived, dtype: int64"
      ]
     },
     "execution_count": 21,
     "metadata": {},
     "output_type": "execute_result"
    }
   ],
   "source": [
    "# ¿Cuántos sobrevidientes hubo por clase?\n",
    "df.groupby('Pclass')['Survived'].sum()"
   ]
  },
  {
   "attachments": {},
   "cell_type": "markdown",
   "metadata": {},
   "source": [
    "Ojo con los valores absolutos. Aquí agrupamos por clase, pero no sabemos cuántos pasajeros hay en cada clase. A primera vista, podríamos decir que la cantidad de sorevivientes de la clase 3 no es tan diferente a la de la clase 1, pero si hay muchos más pasajeros en la clase 3, entonces sí hay una diferencia importante. Podemos ver mejor esta información convirtiendo los valores a proporciones."
   ]
  },
  {
   "cell_type": "code",
   "execution_count": 22,
   "metadata": {},
   "outputs": [
    {
     "data": {
      "text/plain": [
       "Pclass\n",
       "1    0.629630\n",
       "2    0.472826\n",
       "3    0.242363\n",
       "Name: Survived, dtype: float64"
      ]
     },
     "execution_count": 22,
     "metadata": {},
     "output_type": "execute_result"
    }
   ],
   "source": [
    "# ¿Cuántos sobrevivientes hubo por clase en proporción al total de pasajeros por clase?\n",
    "df.groupby('Pclass')['Survived'].mean()"
   ]
  },
  {
   "attachments": {},
   "cell_type": "markdown",
   "metadata": {},
   "source": [
    "Notar que la columna `Survived` es 0s y 1s. La media de esta columna es la la proporción de sobrevivientes. Por ejemplo, creemos un array de 4 0s y 6 1s. La media es 0.6, que es la proporción de 1s."
   ]
  },
  {
   "cell_type": "code",
   "execution_count": 23,
   "metadata": {},
   "outputs": [
    {
     "data": {
      "text/plain": [
       "0.6"
      ]
     },
     "execution_count": 23,
     "metadata": {},
     "output_type": "execute_result"
    }
   ],
   "source": [
    "# crear array con 4 0's y 6 1's\n",
    "\n",
    "ceros = np.zeros(4)\n",
    "unos = np.ones(6)\n",
    "\n",
    "# concatenar los dos arrays\n",
    "\n",
    "zu = np.concatenate([ceros, unos])\n",
    "zu.mean()"
   ]
  },
  {
   "attachments": {},
   "cell_type": "markdown",
   "metadata": {},
   "source": [
    "Ahora sí, vemos que de la clase 3, 119 corresponde al 24.2 %, es decir, solo el 24.2 % de la clase 3 sobrevivió. La proporción de los que no sobrevivieron, por clase, es el complemento de la proporción de los que sí sobrevivieron."
   ]
  },
  {
   "cell_type": "code",
   "execution_count": 24,
   "metadata": {},
   "outputs": [
    {
     "data": {
      "text/plain": [
       "Pclass\n",
       "1    0.370370\n",
       "2    0.527174\n",
       "3    0.757637\n",
       "Name: Survived, dtype: float64"
      ]
     },
     "execution_count": 24,
     "metadata": {},
     "output_type": "execute_result"
    }
   ],
   "source": [
    "# La proporción de los que no sobrevivieron\n",
    "\n",
    "1 - df.groupby('Pclass')['Survived'].mean()"
   ]
  },
  {
   "attachments": {},
   "cell_type": "markdown",
   "metadata": {},
   "source": [
    "**Ejercicios:**\n",
    "\n",
    "1. Crea un histograma de la edad de los pasajeros agrupados por sexo.\n",
    "2. Crea un boxplot de la edad de los pasajeros agrupados por sexo.\n",
    "3. Obtén la supervivencia de pasarejos agrupados por sexo.\n",
    "4. Obtén la supervivencia de pasarejos agrupados por sexo y clase. Hint: puedes usar el método `groupby()` con una lista de columnas, usando, por ejemplo, `[columna1, columna2]`."
   ]
  }
 ],
 "metadata": {
  "kernelspec": {
   "display_name": "base",
   "language": "python",
   "name": "python3"
  },
  "language_info": {
   "codemirror_mode": {
    "name": "ipython",
    "version": 3
   },
   "file_extension": ".py",
   "mimetype": "text/x-python",
   "name": "python",
   "nbconvert_exporter": "python",
   "pygments_lexer": "ipython3",
   "version": "3.10.9"
  },
  "orig_nbformat": 4
 },
 "nbformat": 4,
 "nbformat_minor": 2
}
