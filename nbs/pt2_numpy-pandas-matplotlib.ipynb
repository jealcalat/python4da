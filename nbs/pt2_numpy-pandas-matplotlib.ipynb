{
 "cells": [
  {
   "attachments": {},
   "cell_type": "markdown",
   "metadata": {},
   "source": [
    "#  Introducción a Numpy, Pandas y matplotlib para el análisis de datos\n",
    "\n",
    "## Numpy\n",
    "\n",
    "Numpy es una librería de Python que nos permite trabajar con vectores y matrices de forma eficiente. Es una de las librerías más importantes para el análisis de datos en Python. Pero primerto, ¿qué es un vector y qué es una matriz?\n",
    "\n",
    "*Vector:* en `numpy` un vector es una colección de una dimensión. Se puede pensar como valores en una columna de una tabla. Por ejemplo, la edad de los alumnos de una clase.\n",
    "\n",
    "*Matriz:* en `numpy` una matriz es una colección de dos dimensiones. Se puede pensar como una tabla. Por ejemplo, la edad y la altura de los alumnos de una clase.\n",
    "\n",
    "*Arreglo:* a su vez, un arreglo es una colección de *p* dimensiones. Por ejemplo, la edad, la altura y el peso de los alumnos de una clase es una matriz de 3 dimensiones. Los arreglos es una forma general de referirse a vectores y matrices en cualquier dimensión. \n",
    "\n",
    "A diferencia de las listas, los arreglos de `numpy` son homogéneos, es decir, todos los elementos deben ser del mismo tipo. Por ejemplo, todos los elementos de un arreglo pueden ser enteros o flotantes, pero no una mezcla de ambos."
   ]
  },
  {
   "cell_type": "code",
   "execution_count": 7,
   "metadata": {},
   "outputs": [
    {
     "name": "stdout",
     "output_type": "stream",
     "text": [
      "[1 2 3]\n"
     ]
    }
   ],
   "source": [
    "# Crear un vector con numpy\n",
    "import numpy as np\n",
    "\n",
    "vector = np.array([1, 2, 3])\n",
    "print(vector)"
   ]
  },
  {
   "attachments": {},
   "cell_type": "markdown",
   "metadata": {},
   "source": [
    "Recordaremos que si teníamos una lista `x = [1, 2, 3]` y multiplicábamos la lista por 2, obteníamos una lista con los elementos repetidos: `x * 2 = [1, 2, 3, 1, 2, 3]`. En cambio, si tenemos un arreglo `y = np.array([1, 2, 3])` y lo multiplicamos por 2, obtenemos un arreglo con los elementos multiplicados por 2: `y * 2 = np.array([2, 4, 6])`."
   ]
  },
  {
   "cell_type": "code",
   "execution_count": 8,
   "metadata": {},
   "outputs": [
    {
     "data": {
      "text/plain": [
       "array([2, 4, 6])"
      ]
     },
     "execution_count": 8,
     "metadata": {},
     "output_type": "execute_result"
    }
   ],
   "source": [
    "vector  = np.array([1, 2, 3])\n",
    "vector  * 2"
   ]
  },
  {
   "attachments": {},
   "cell_type": "markdown",
   "metadata": {},
   "source": [
    "Podemos convertir una lista en un arreglo con la función `np.array()`."
   ]
  },
  {
   "cell_type": "code",
   "execution_count": 9,
   "metadata": {},
   "outputs": [
    {
     "data": {
      "text/plain": [
       "array([1, 2, 3])"
      ]
     },
     "execution_count": 9,
     "metadata": {},
     "output_type": "execute_result"
    }
   ],
   "source": [
    "x = [1, 2, 3]\n",
    "np.array(x)"
   ]
  },
  {
   "cell_type": "code",
   "execution_count": 10,
   "metadata": {},
   "outputs": [
    {
     "name": "stdout",
     "output_type": "stream",
     "text": [
      "x * 2 = [1, 2, 3, 1, 2, 3]\n"
     ]
    }
   ],
   "source": [
    "print(f'x * 2 = {x * 2}')"
   ]
  },
  {
   "cell_type": "code",
   "execution_count": 11,
   "metadata": {},
   "outputs": [
    {
     "name": "stdout",
     "output_type": "stream",
     "text": [
      "y * 2 = [2 4 6]\n"
     ]
    }
   ],
   "source": [
    " y = np.array(x)\n",
    "print(f'y * 2 = {y * 2}')"
   ]
  }
 ],
 "metadata": {
  "kernelspec": {
   "display_name": "base",
   "language": "python",
   "name": "python3"
  },
  "language_info": {
   "codemirror_mode": {
    "name": "ipython",
    "version": 3
   },
   "file_extension": ".py",
   "mimetype": "text/x-python",
   "name": "python",
   "nbconvert_exporter": "python",
   "pygments_lexer": "ipython3",
   "version": "3.10.9"
  },
  "orig_nbformat": 4
 },
 "nbformat": 4,
 "nbformat_minor": 2
}
