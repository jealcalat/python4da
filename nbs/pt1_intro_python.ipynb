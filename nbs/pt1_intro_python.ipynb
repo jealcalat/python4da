{
 "cells": [
  {
   "attachments": {},
   "cell_type": "markdown",
   "metadata": {},
   "source": [
    "# Introducción a Python\n",
    "\n",
    "Python es un lenguaje de programación de alto nivel, interpretado, orientado a objetos y de propósito general. Fue creado por Guido van Rossum y lanzado en 1991. Es uno de los lenguajes de programación más populares del mundo, y es usado en una gran variedad de aplicaciones, incluyendo cómputo científico, desarrollo web, inteligencia artificial, etc.\n",
    "\n",
    "## ¿Por qué Python?\n",
    "\n",
    "- Es un lenguaje de programación de alto nivel, lo que significa que es más cercano al lenguaje humano que a la máquina. Esto lo hace más fácil de aprender y usar.\n",
    "\n",
    "- Es un lenguaje interpretado, lo que significa que no es necesario compilar el código antes de ejecutarlo. Esto lo hace más fácil de usar.\n",
    "\n",
    "- Es un lenguaje orientado a objetos, lo que significa que permite la programación orientada a objetos. Esto lo hace más fácil de usar.\n",
    "\n",
    "- Es un lenguaje de propósito general, lo que significa que puede usarse para una gran variedad de aplicaciones. Esto lo hace más fácil de usar.\n",
    "\n",
    "- Es un lenguaje de código abierto, lo que significa que es gratis y que su código fuente está disponible para que cualquiera lo modifique y lo comparta. Esto lo hace más fácil de usar.\n",
    "\n",
    "- Es un lenguaje multiplataforma, lo que significa que puede usarse en cualquier sistema operativo. Esto lo hace más fácil de usar.\n",
    "\n",
    "\n",
    "## ¿Qué es Anaconda?\n",
    "\n",
    "[Anaconda](https://docs.anaconda.com/free/anaconda/install/windows/) es una distribución de Python que, además de Python, instala algunas bibliotecas para cómputo científico y análisis de datos, así como dos entornos de programación (Spyder y Jupyter Notebooks). Las bibliotecas preinstaladas incluyen Numpy, SciPy, Pandas, Matplotlib, Scikit-learn, Seaborn, etc. Por esta razón, es la forma preferida de instalar Python para estos usos, y es la que usaremos en el taller."
   ]
  },
  {
   "cell_type": "code",
   "execution_count": null,
   "metadata": {},
   "outputs": [],
   "source": []
  }
 ],
 "metadata": {
  "language_info": {
   "name": "python"
  },
  "orig_nbformat": 4
 },
 "nbformat": 4,
 "nbformat_minor": 2
}
