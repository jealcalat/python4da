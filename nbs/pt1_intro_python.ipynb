{
 "cells": [
  {
   "attachments": {},
   "cell_type": "markdown",
   "metadata": {},
   "source": [
    "# Introducción a Python\n",
    "\n",
    "Python es un lenguaje de programación de alto nivel, interpretado, orientado a objetos y de propósito general. Fue creado por Guido van Rossum y lanzado en 1991. Es uno de los lenguajes de programación más populares del mundo, y es usado en una gran variedad de aplicaciones, incluyendo cómputo científico, desarrollo web, inteligencia artificial, etc.\n",
    "\n",
    "## ¿Por qué Python?\n",
    "\n",
    "- Es un lenguaje de programación de alto nivel, lo que significa que es más cercano al lenguaje humano que a la máquina. Esto lo hace más fácil de aprender y usar.\n",
    "\n",
    "- Es un lenguaje interpretado, lo que significa que no es necesario compilar el código antes de ejecutarlo. Esto lo hace más fácil de usar.\n",
    "\n",
    "- Es un lenguaje orientado a objetos, lo que significa que permite la programación orientada a objetos. Esto lo hace más fácil de usar.\n",
    "\n",
    "- Es un lenguaje de propósito general, lo que significa que puede usarse para una gran variedad de aplicaciones. Esto lo hace más fácil de usar.\n",
    "\n",
    "- Es un lenguaje de código abierto, lo que significa que es gratis y que su código fuente está disponible para que cualquiera lo modifique y lo comparta. Esto lo hace más fácil de usar.\n",
    "\n",
    "- Es un lenguaje multiplataforma, lo que significa que puede usarse en cualquier sistema operativo. Esto lo hace más fácil de usar.\n",
    "\n",
    "\n",
    "## ¿Qué es Anaconda?\n",
    "\n",
    "[Anaconda](https://docs.anaconda.com/free/anaconda/install/windows/) es una distribución de Python que, además de Python, instala algunas bibliotecas para cómputo científico y análisis de datos, así como dos entornos de programación (Spyder y Jupyter Notebooks). Las bibliotecas preinstaladas incluyen Numpy, SciPy, Pandas, Matplotlib, Scikit-learn, Seaborn, etc. Por esta razón, es la forma preferida de instalar Python para estos usos, y es la que usaremos en el taller.  "
   ]
  },
  {
   "attachments": {},
   "cell_type": "markdown",
   "metadata": {},
   "source": [
    "## Sintaxis básica de Python\n",
    "\n",
    "### Comentarios\n",
    "\n",
    "Los comentarios son líneas de código que no se ejecutan, pero que sirven para documentar el código. En Python, los comentarios se escriben con el símbolo `#`. Todo lo que se escriba después de `#` en una línea de código se considera un comentario."
   ]
  },
  {
   "cell_type": "code",
   "execution_count": 84,
   "metadata": {},
   "outputs": [],
   "source": [
    "# esto es un comentario, y no se ejecuta"
   ]
  },
  {
   "cell_type": "code",
   "execution_count": 85,
   "metadata": {},
   "outputs": [
    {
     "data": {
      "text/plain": [
       "25"
      ]
     },
     "execution_count": 85,
     "metadata": {},
     "output_type": "execute_result"
    }
   ],
   "source": [
    "# esto es un comentario, y no se ejecuta\n",
    "# x = 5\n",
    "# x**2\n",
    "# pero lo siguiente sí\n",
    "x = 5\n",
    "x**2 # elevado al cuadrado"
   ]
  },
  {
   "attachments": {},
   "cell_type": "markdown",
   "metadata": {},
   "source": [
    "### Variables\n",
    "\n",
    "Una variable es un espacio en la memoria de la computadora que se usa para almacenar un valor. En Python, las variables se crean al asignarles un valor. Por ejemplo, para crear una variable llamada `x` y asignarle el valor `5`, se escribe:\n"
   ]
  },
  {
   "cell_type": "code",
   "execution_count": 86,
   "metadata": {},
   "outputs": [
    {
     "data": {
      "text/plain": [
       "int"
      ]
     },
     "execution_count": 86,
     "metadata": {},
     "output_type": "execute_result"
    }
   ],
   "source": [
    "x = 5\n",
    "type(x)"
   ]
  },
  {
   "attachments": {},
   "cell_type": "markdown",
   "metadata": {},
   "source": [
    "En Python, no es necesario declarar el tipo de variable que se está creando. Python infiere el tipo de variable a partir del valor que se le asigna. En el ejemplo anterior, Python infiere que `x` es un entero (`int`), porque el valor que se le asigna es un entero. Si se le asigna un valor decimal, Python infiere que `x` es un decimal (`float`):\n"
   ]
  },
  {
   "cell_type": "code",
   "execution_count": 87,
   "metadata": {},
   "outputs": [
    {
     "data": {
      "text/plain": [
       "float"
      ]
     },
     "execution_count": 87,
     "metadata": {},
     "output_type": "execute_result"
    }
   ],
   "source": [
    "x = 5.0\n",
    "type(x)"
   ]
  },
  {
   "attachments": {},
   "cell_type": "markdown",
   "metadata": {},
   "source": [
    "Si se le asigna un valor de texto, Python infiere que `x` es un texto (`str`):"
   ]
  },
  {
   "cell_type": "code",
   "execution_count": 88,
   "metadata": {},
   "outputs": [
    {
     "data": {
      "text/plain": [
       "str"
      ]
     },
     "execution_count": 88,
     "metadata": {},
     "output_type": "execute_result"
    }
   ],
   "source": [
    "x = '5'\n",
    "type(x)"
   ]
  },
  {
   "attachments": {},
   "cell_type": "markdown",
   "metadata": {},
   "source": [
    "### Operaciones aritméticas\n",
    "\n",
    "Python permite realizar operaciones aritméticas con variables. Por ejemplo, si se tienen dos variables `x` y `y`, se pueden sumar, restar, multiplicar y dividir:"
   ]
  },
  {
   "cell_type": "code",
   "execution_count": 89,
   "metadata": {},
   "outputs": [
    {
     "data": {
      "text/plain": [
       "15"
      ]
     },
     "execution_count": 89,
     "metadata": {},
     "output_type": "execute_result"
    }
   ],
   "source": [
    "x = 10\n",
    "y = 5\n",
    "# suma\n",
    "x + y"
   ]
  },
  {
   "cell_type": "code",
   "execution_count": 90,
   "metadata": {},
   "outputs": [
    {
     "data": {
      "text/plain": [
       "50"
      ]
     },
     "execution_count": 90,
     "metadata": {},
     "output_type": "execute_result"
    }
   ],
   "source": [
    "# multiplicacion\n",
    "x * y"
   ]
  },
  {
   "cell_type": "code",
   "execution_count": 91,
   "metadata": {},
   "outputs": [
    {
     "data": {
      "text/plain": [
       "2.0"
      ]
     },
     "execution_count": 91,
     "metadata": {},
     "output_type": "execute_result"
    }
   ],
   "source": [
    "# division\n",
    "x / y"
   ]
  },
  {
   "attachments": {},
   "cell_type": "markdown",
   "metadata": {},
   "source": [
    "### Print\n",
    "\n",
    "La función `print` permite imprimir el valor de una variable en la pantalla. Por ejemplo, si se tiene una variable `x` con el valor `5`, se puede imprimir el valor de `x` en la pantalla de la siguiente manera:"
   ]
  },
  {
   "cell_type": "code",
   "execution_count": 92,
   "metadata": {},
   "outputs": [
    {
     "name": "stdout",
     "output_type": "stream",
     "text": [
      "5\n"
     ]
    }
   ],
   "source": [
    "x = 5\n",
    "print(x)"
   ]
  },
  {
   "attachments": {},
   "cell_type": "markdown",
   "metadata": {},
   "source": [
    "También se puede imprimir *strings*:"
   ]
  },
  {
   "cell_type": "code",
   "execution_count": 93,
   "metadata": {},
   "outputs": [
    {
     "name": "stdout",
     "output_type": "stream",
     "text": [
      "x = 5\n"
     ]
    }
   ],
   "source": [
    "# imprimir string y variable\n",
    "print('x =', x)"
   ]
  },
  {
   "attachments": {},
   "cell_type": "markdown",
   "metadata": {},
   "source": [
    "### f-strings\n",
    "\n",
    "Python permite imprimir el valor de una variable dentro de un texto usando f-strings. Para usar f-strings, se debe anteponer una `f` al texto, y luego encerrar entre llaves la variable que se quiere imprimir. Por ejemplo, si se tiene una variable `x` con el valor `5`, se puede imprimir el valor de `x` dentro de un texto de la siguiente manera:"
   ]
  },
  {
   "cell_type": "code",
   "execution_count": 94,
   "metadata": {},
   "outputs": [
    {
     "name": "stdout",
     "output_type": "stream",
     "text": [
      "x = 5\n"
     ]
    }
   ],
   "source": [
    "# ejemplo de f-string\n",
    "print(f'x = {x}')"
   ]
  },
  {
   "cell_type": "code",
   "execution_count": 95,
   "metadata": {},
   "outputs": [
    {
     "name": "stdout",
     "output_type": "stream",
     "text": [
      "x = 5, y = 5\n"
     ]
    }
   ],
   "source": [
    "print(f'x = {x}, y = {y}')"
   ]
  },
  {
   "cell_type": "code",
   "execution_count": 96,
   "metadata": {},
   "outputs": [
    {
     "name": "stdout",
     "output_type": "stream",
     "text": [
      "Resultado de x / y = 1.0\n"
     ]
    }
   ],
   "source": [
    "# dividir x entre y dentro de un f-string\n",
    "print(f'Resultado de x / y = {x / y}')"
   ]
  },
  {
   "attachments": {},
   "cell_type": "markdown",
   "metadata": {},
   "source": [
    "**Ejercicio:**\n",
    "\n",
    "1. Crea dos variables `x` y `y` y asígnales valores numéricos.\n",
    "2. Crear un f-string que imprima el valor de `x` y `y` dentro de un texto. Por ejemplo, \"El valor de x es: y el valor de y es: \".\n",
    "3. Crea una variable `z` que sea igual a `x + y` dentro de un f-string.\n",
    "4. Multiplica x por y y asígnalo a una variable `w` dentro de un f-string."
   ]
  },
  {
   "attachments": {},
   "cell_type": "markdown",
   "metadata": {},
   "source": [
    "### Listas\n",
    "\n",
    "Una lista es una colección de valores. En Python, las listas se crean usando corchetes (`[]`) y separando los valores con comas (`,`). Por ejemplo, para crear una lista con los números `1`, `2` y `3`, se escribe:\n",
    "\n"
   ]
  },
  {
   "cell_type": "code",
   "execution_count": 97,
   "metadata": {},
   "outputs": [
    {
     "data": {
      "text/plain": [
       "[1, 2, 3]"
      ]
     },
     "execution_count": 97,
     "metadata": {},
     "output_type": "execute_result"
    }
   ],
   "source": [
    "x = [1, 2, 3]\n",
    "x"
   ]
  },
  {
   "attachments": {},
   "cell_type": "markdown",
   "metadata": {},
   "source": [
    "Para realizar operaciones aritméticas con las listas, se debe acceder al valor de las listas. Para acceder al valor de una lista, se escribe el nombre de la lista seguido de corchetes con el índice del valor que se quiere acceder. Por ejemplo, para acceder al primer valor de la lista `x`, se escribe:"
   ]
  },
  {
   "cell_type": "code",
   "execution_count": 98,
   "metadata": {},
   "outputs": [
    {
     "data": {
      "text/plain": [
       "2"
      ]
     },
     "execution_count": 98,
     "metadata": {},
     "output_type": "execute_result"
    }
   ],
   "source": [
    "x[0] * 2"
   ]
  },
  {
   "cell_type": "code",
   "execution_count": 99,
   "metadata": {},
   "outputs": [
    {
     "data": {
      "text/plain": [
       "6"
      ]
     },
     "execution_count": 99,
     "metadata": {},
     "output_type": "execute_result"
    }
   ],
   "source": [
    "x[2] * 2"
   ]
  },
  {
   "attachments": {},
   "cell_type": "markdown",
   "metadata": {},
   "source": [
    "Sin embargo, si se usa un operador aritmético como `*` con una lista, Python no accede al valor de la lista, sino que realiza la operación aritmética con la lista completa. Por ejemplo, si se multiplica la lista `x` por `2`, Python no multiplica cada valor de la lista por `2`, sino que repite la lista dos veces:"
   ]
  },
  {
   "cell_type": "code",
   "execution_count": 100,
   "metadata": {},
   "outputs": [
    {
     "data": {
      "text/plain": [
       "[1, 2, 3, 1, 2, 3]"
      ]
     },
     "execution_count": 100,
     "metadata": {},
     "output_type": "execute_result"
    }
   ],
   "source": [
    "x = [1, 2, 3]\n",
    "x * 2"
   ]
  },
  {
   "attachments": {},
   "cell_type": "markdown",
   "metadata": {},
   "source": [
    "Las listas pueden contener valores de diferentes tipos. Por ejemplo, para crear una lista con los números `1`, `2` y `3`, el texto `\"hola\"` y el valor `True`, se escribe:"
   ]
  },
  {
   "cell_type": "code",
   "execution_count": 101,
   "metadata": {},
   "outputs": [
    {
     "data": {
      "text/plain": [
       "[1, 2, 3, 'hola', True]"
      ]
     },
     "execution_count": 101,
     "metadata": {},
     "output_type": "execute_result"
    }
   ],
   "source": [
    "x = [1, 2, 3, \"hola\", True]\n",
    "x"
   ]
  },
  {
   "cell_type": "code",
   "execution_count": 102,
   "metadata": {},
   "outputs": [
    {
     "data": {
      "text/plain": [
       "[1, 2, 3, 'hola', True, 1, 2, 3, 'hola', True]"
      ]
     },
     "execution_count": 102,
     "metadata": {},
     "output_type": "execute_result"
    }
   ],
   "source": [
    "x * 2"
   ]
  },
  {
   "attachments": {},
   "cell_type": "markdown",
   "metadata": {},
   "source": [
    "Podemos crear otra lista y sumarla a la lista anterior (operación que se conoce como concatenación):"
   ]
  },
  {
   "cell_type": "code",
   "execution_count": 103,
   "metadata": {},
   "outputs": [
    {
     "data": {
      "text/plain": [
       "[1, 2, 3, 'hola', True, 4, 5, 6]"
      ]
     },
     "execution_count": 103,
     "metadata": {},
     "output_type": "execute_result"
    }
   ],
   "source": [
    "y = [4, 5, 6]\n",
    "x + y"
   ]
  },
  {
   "attachments": {},
   "cell_type": "markdown",
   "metadata": {},
   "source": [
    "También podemos agregar y eliminar elementos de una lista, con los métodos `append` y `remove`:"
   ]
  },
  {
   "cell_type": "code",
   "execution_count": 104,
   "metadata": {},
   "outputs": [
    {
     "name": "stdout",
     "output_type": "stream",
     "text": [
      "[1, 2, 3, 4]\n"
     ]
    }
   ],
   "source": [
    "x = [1, 2, 3]\n",
    "x.append(4)  # Ahora x es [1, 2, 3, 4]\n",
    "print(x)"
   ]
  },
  {
   "cell_type": "code",
   "execution_count": 105,
   "metadata": {},
   "outputs": [
    {
     "name": "stdout",
     "output_type": "stream",
     "text": [
      "[1, 3, 4]\n"
     ]
    }
   ],
   "source": [
    "x.remove(2)  # Ahora x es [1, 3, 4]\n",
    "print(x)"
   ]
  },
  {
   "attachments": {},
   "cell_type": "markdown",
   "metadata": {},
   "source": [
    "Se puede reemplazar un elemento de una lista usando el índice del elemento que se quiere reemplazar. Por ejemplo, para reemplazar el primer elemento de la lista `x` por el valor `10`, se escribe:"
   ]
  },
  {
   "cell_type": "code",
   "execution_count": 106,
   "metadata": {},
   "outputs": [
    {
     "data": {
      "text/plain": [
       "[10, 2, 3]"
      ]
     },
     "execution_count": 106,
     "metadata": {},
     "output_type": "execute_result"
    }
   ],
   "source": [
    "x = [1, 2, 3]\n",
    "x[0] = 10\n",
    "x"
   ]
  },
  {
   "attachments": {},
   "cell_type": "markdown",
   "metadata": {},
   "source": [
    "Notar que el primer elemento de la lista tiene índice `0`, el segundo elemento tiene índice `1`, etc. Esto se debe a que Python empieza a contar desde `0`. Los valores dentro de una lista se llaman elementos o índices. El número de elementos de una lista se llama longitud de la lista, y se puede obtener con la función `len`. "
   ]
  },
  {
   "cell_type": "code",
   "execution_count": 107,
   "metadata": {},
   "outputs": [
    {
     "data": {
      "text/plain": [
       "3"
      ]
     },
     "execution_count": 107,
     "metadata": {},
     "output_type": "execute_result"
    }
   ],
   "source": [
    "len(x)"
   ]
  },
  {
   "attachments": {},
   "cell_type": "markdown",
   "metadata": {},
   "source": [
    "**Ejercicios:**\n",
    "\n",
    "1. Crea una lista con los números `1`, `2` y `3`, y asígnala a una variable `x`.\n",
    "2. Crea una lista con los números `4`, `5` y `6`, y asígnala a una variable `y`.\n",
    "3. Con las listas `x` y `y`, crea una lista `z` que contenga las dos listas, es decir, `[1, 2, 3, 4, 5, 6]`.\n",
    "4. Multiplica la lista `x` por `3` y asígnala a una variable `w`.\n",
    "5. En la lista `x`, reemplaza el primer elemento por el valor original multiplicado por `3`."
   ]
  },
  {
   "attachments": {},
   "cell_type": "markdown",
   "metadata": {},
   "source": [
    "### Librerías\n",
    "\n",
    "Una librería es un conjunto de funciones que se pueden usar en un programa. En Python, las librerías se importan con la palabra clave `import`. Por ejemplo, para importar la librería `math`, se escribe:"
   ]
  },
  {
   "cell_type": "code",
   "execution_count": 108,
   "metadata": {},
   "outputs": [],
   "source": [
    "import math"
   ]
  },
  {
   "attachments": {},
   "cell_type": "markdown",
   "metadata": {},
   "source": [
    "Luego, podemos acceder a las funciones de la librería usando el nombre de la librería seguido de un punto (`.`) y el nombre de la función. Por ejemplo, para acceder a la función `sqrt` de la librería `math`, se escribe:"
   ]
  },
  {
   "cell_type": "code",
   "execution_count": 109,
   "metadata": {},
   "outputs": [
    {
     "data": {
      "text/plain": [
       "2.0"
      ]
     },
     "execution_count": 109,
     "metadata": {},
     "output_type": "execute_result"
    }
   ],
   "source": [
    "math.sqrt(4) # la raiz cuadrada de 4"
   ]
  },
  {
   "attachments": {},
   "cell_type": "markdown",
   "metadata": {},
   "source": [
    "En ocasiones, es más fácil importar una librería con un nombre más corto. Para hacer esto, se usa la palabra clave `as`. Por ejemplo, para importar la librería `math` con el nombre `m`, se escribe:"
   ]
  },
  {
   "cell_type": "code",
   "execution_count": 110,
   "metadata": {},
   "outputs": [],
   "source": [
    "import math as m"
   ]
  },
  {
   "cell_type": "code",
   "execution_count": 111,
   "metadata": {},
   "outputs": [
    {
     "data": {
      "text/plain": [
       "2.0"
      ]
     },
     "execution_count": 111,
     "metadata": {},
     "output_type": "execute_result"
    }
   ],
   "source": [
    "m.sqrt(4) # la raiz cuadrada de 4"
   ]
  },
  {
   "attachments": {},
   "cell_type": "markdown",
   "metadata": {},
   "source": [
    "Incluso, si solo necesitamos una función de una librería, podemos importar solo esa función usado `from`. Por ejemplo, para importar la función `sqrt` de la librería `math`, se escribe:"
   ]
  },
  {
   "cell_type": "code",
   "execution_count": 112,
   "metadata": {},
   "outputs": [
    {
     "data": {
      "text/plain": [
       "2.0"
      ]
     },
     "execution_count": 112,
     "metadata": {},
     "output_type": "execute_result"
    }
   ],
   "source": [
    "from math import sqrt\n",
    "sqrt(4) # la raiz cuadrada de 4"
   ]
  },
  {
   "attachments": {},
   "cell_type": "markdown",
   "metadata": {},
   "source": [
    "¿Qué pasará si tratamos de obtener la raíz cuadrada de `x`, la lista que creamos anteriormente?"
   ]
  },
  {
   "cell_type": "code",
   "execution_count": 113,
   "metadata": {},
   "outputs": [],
   "source": [
    "# obtener la raíz cuadrada de x, una lista de números"
   ]
  },
  {
   "attachments": {},
   "cell_type": "markdown",
   "metadata": {},
   "source": [
    "Nos dará error, porque la función `sqrt` solo funciona con números, no con listas. Para obtener la raíz cuadrada de cada elemento de la lista `x`, debemos hacerlo sobre cada elemento de la lista que sea un número. Por ejemplo, para la raíz cuadrada del tercer elemento de la lista `x`, se escribe:"
   ]
  },
  {
   "cell_type": "code",
   "execution_count": 114,
   "metadata": {},
   "outputs": [
    {
     "data": {
      "text/plain": [
       "1.7320508075688772"
      ]
     },
     "execution_count": 114,
     "metadata": {},
     "output_type": "execute_result"
    }
   ],
   "source": [
    "m.sqrt(x[2]) # notar de nuevo que el tercer elemento de la lista es el índice 2"
   ]
  },
  {
   "attachments": {},
   "cell_type": "markdown",
   "metadata": {},
   "source": [
    "Para obtener la raíz de cada elemento de una lista que sea un número, podríamos usar un ciclo `for`. Sin embargo, Python tiene una forma más fácil de hacerlo, usando una función de la librería `numpy`, y esto permite realizar las operaciones de forma vectorizada, es decir, sin necesidad de usar un ciclo `for`. Veremos más adelante cómo usar la librería `numpy` para hacer esto."
   ]
  },
  {
   "attachments": {},
   "cell_type": "markdown",
   "metadata": {},
   "source": [
    "**Ejercicios:**\n",
    "\n",
    "1. Importa la librería `math` con el nombre `m`.\n",
    "2. Crea una lista `x` con los números `1`, `2` y `3`.\n",
    "3. Obtén la raíz cuadrada de cada elemento de la lista `x`, usando la función `sqrt` de la librería `m`.\n",
    "4. Obtén el valor absoluto de -5, usando la función `fabs` de la librería `m`. \n",
    "5. Multiplica el resultado de la raíz cuadrada del segundo elemento de `x` por dos. Nota: ojo con el orden de las operaciones que indica la instrucción."
   ]
  }
 ],
 "metadata": {
  "kernelspec": {
   "display_name": "base",
   "language": "python",
   "name": "python3"
  },
  "language_info": {
   "codemirror_mode": {
    "name": "ipython",
    "version": 3
   },
   "file_extension": ".py",
   "mimetype": "text/x-python",
   "name": "python",
   "nbconvert_exporter": "python",
   "pygments_lexer": "ipython3",
   "version": "3.10.9"
  },
  "orig_nbformat": 4
 },
 "nbformat": 4,
 "nbformat_minor": 2
}
