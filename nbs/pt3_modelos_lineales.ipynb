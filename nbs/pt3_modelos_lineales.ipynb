{
 "cells": [
  {
   "attachments": {},
   "cell_type": "markdown",
   "metadata": {},
   "source": [
    "# Introducción al ajuste de modelos lineales y no lineales\n",
    "\n",
    "Primero, una digresión. En el contexto de la estadística ciencia de datos, el término \"modelo\" se refiere a una función matemática que describe la relación entre dos o más variables. Una función matemática por sí misma no especifica si la relación entre las variables es causal o correlacional. Por ejemplo, el modelo $y = a + bx$ describe una relación lineal entre $x$ e $y$, pero no especifica si $x$ causa $y$ o viceversa. En este sentido, un modelo es una abstracción de la realidad. La causalidad requiere otros elementos, como la teoría y el diseño experimental.\n",
    "\n",
    "## Modelos lineales\n",
    "\n",
    "Un modelo lineal es una función que se puede escribir como una combinación lineal de parámetros. Por ejemplo, el modelo lineal más simple es una recta:\n",
    "\n",
    "$$\n",
    "y = a + bx\n",
    "$$\n",
    "\n",
    "donde $a$ y $b$ son los parámetros del modelo. En este caso, el modelo lineal es una función de una sola variable, $x$. En general, un modelo lineal puede ser una función de $n$ variables:\n",
    "\n",
    "$$\n",
    "y = a_0 + a_1x_1 + a_2x_2 + \\dots + a_nx_n\n",
    "$$\n",
    "\n",
    "Aquí nos restrigiremos a modelos lineales de una sola variable, para ejemplificar. "
   ]
  },
  {
   "attachments": {},
   "cell_type": "markdown",
   "metadata": {},
   "source": [
    "<p>En la siguiente figura del artículo de Reed (2009).<sup><a href=\"#fn1\" id=\"ref1\">1</a></sup></p>\n",
    "\n",
    "<center>\n",
    "  <img src=\"../image/matching.jpeg\" width=\"600\">\n",
    "</center>\n",
    "\n",
    "Los autores ilustran cómo utilizar la ecuación de igualación para analizar datos de evaluación descriptiva de un estudiante con comportamiento fuera de su asiento. Registran la duración del comportamiento en el asiento y fuera del asiento, así como el número de declaraciones de atención de otros durante cada comportamiento.\n",
    "\n",
    "<ol>\n",
    "  <li id=\"fn1\">\n",
    "    <p>Reed, D. D. (2009). Using Microsoft Office Excel® 2007 to conduct generalized matching analyses. Journal of Applied Behavior Analysis, 42(4), 867-875. https://doi.org/10.1901/jaba.2009.42-867.<a href=\"#ref1\">↩</a></p>\n",
    "  </li>\n",
    "</ol>\n"
   ]
  },
  {
   "cell_type": "code",
   "execution_count": 2,
   "metadata": {},
   "outputs": [],
   "source": [
    "import pandas as pd\n",
    "import numpy as np\n",
    "import matplotlib.pyplot as plt\n",
    "\n",
    "b1 = [26, 38, 41, 45, 50]\n",
    "b2 = [34, 22, 19, 15, 10]\n",
    "r1 = [11, 15, 16, 18, 17]\n",
    "r2 = [13, 10, 6, 3, 2]\n",
    "# crear dataframe\n",
    "matching_data = pd.DataFrame({'b1': b1, 'b2': b2, 'r1': r1, 'r2': r2})"
   ]
  },
  {
   "cell_type": "code",
   "execution_count": 3,
   "metadata": {},
   "outputs": [
    {
     "data": {
      "text/plain": [
       "Text(0.5, 0, 'r1/r2')"
      ]
     },
     "execution_count": 3,
     "metadata": {},
     "output_type": "execute_result"
    },
    {
     "data": {
      "image/png": "[encoded data removed]",
      "text/plain": [
       "<Figure size 640x480 with 1 Axes>"
      ]
     },
     "metadata": {},
     "output_type": "display_data"
    }
   ],
   "source": [
    "# graficar la razón de b1/b2 vs r1/r2\n",
    "plt.scatter(matching_data['r1']/matching_data['r2'], matching_data['b1']/matching_data['b2'])\n",
    "plt.ylabel('b1/b2')\n",
    "plt.xlabel('r1/r2')"
   ]
  },
  {
   "cell_type": "code",
   "execution_count": 4,
   "metadata": {},
   "outputs": [
    {
     "data": {
      "text/plain": [
       "Text(0.5, 0, 'log10 (r1/r2)')"
      ]
     },
     "execution_count": 4,
     "metadata": {},
     "output_type": "execute_result"
    },
    {
     "data": {
      "image/png": "[encoded data removed]",
      "text/plain": [
       "<Figure size 640x480 with 1 Axes>"
      ]
     },
     "metadata": {},
     "output_type": "display_data"
    }
   ],
   "source": [
    "# graficar log10(b1/b2) vs log10(r1/r2)\n",
    "plt.scatter(np.log10(matching_data['r1']/matching_data['r2']), \n",
    "            np.log10(matching_data['b1']/matching_data['b2']))\n",
    "plt.ylabel('log10 (b1/b2)')\n",
    "plt.xlabel('log10 (r1/r2)')"
   ]
  },
  {
   "attachments": {},
   "cell_type": "markdown",
   "metadata": {},
   "source": [
    "Los datos no son enteramente lineales, pero se puede ajustar un modelo lineal a los datos. En este caso, el modelo lineal es una aproximación de los datos, y no necesaraimente representa el proceso real suyacente. Sin embargo, el modelo lineal puede ser útil para predecir el comportamiento de un estudiante en el futuro, o para comparar el comportamiento de un estudiante con el de otros estudiantes, en la medida en que el modelo lineal no varíe mucho de los datos reales.\n",
    "\n",
    "Vamos a ajustar un modelo lineal con la siguiente forma:\n",
    "\n",
    "$$\n",
    " \\log_{10}(B_1/B_2) = a + b \\log_{10}(R_1/R_2)\n",
    "$$"
   ]
  },
  {
   "cell_type": "code",
   "execution_count": 5,
   "metadata": {},
   "outputs": [
    {
     "name": "stdout",
     "output_type": "stream",
     "text": [
      "                            OLS Regression Results                            \n",
      "==============================================================================\n",
      "Dep. Variable:                      y   R-squared:                       0.933\n",
      "Model:                            OLS   Adj. R-squared:                  0.910\n",
      "Method:                 Least Squares   F-statistic:                     41.47\n",
      "Date:                Wed, 21 Jun 2023   Prob (F-statistic):            0.00759\n",
      "Time:                        19:22:12   Log-Likelihood:                 6.1845\n",
      "No. Observations:                   5   AIC:                            -8.369\n",
      "Df Residuals:                       3   BIC:                            -9.150\n",
      "Df Model:                           1                                         \n",
      "Covariance Type:            nonrobust                                         \n",
      "==============================================================================\n",
      "                 coef    std err          t      P>|t|      [0.025      0.975]\n",
      "------------------------------------------------------------------------------\n",
      "const          0.0108      0.064      0.170      0.876      -0.192       0.213\n",
      "0              0.7050      0.109      6.440      0.008       0.357       1.053\n",
      "==============================================================================\n",
      "Omnibus:                          nan   Durbin-Watson:                   2.536\n",
      "Prob(Omnibus):                    nan   Jarque-Bera (JB):                0.431\n",
      "Skew:                           0.072   Prob(JB):                        0.806\n",
      "Kurtosis:                       1.569   Cond. No.                         3.31\n",
      "==============================================================================\n",
      "\n",
      "Notes:\n",
      "[1] Standard Errors assume that the covariance matrix of the errors is correctly specified.\n"
     ]
    },
    {
     "name": "stderr",
     "output_type": "stream",
     "text": [
      "/home/mrrobot/anaconda3/lib/python3.10/site-packages/statsmodels/stats/stattools.py:74: ValueWarning: omni_normtest is not valid with less than 8 observations; 5 samples were given.\n",
      "  warn(\"omni_normtest is not valid with less than 8 observations; %i \"\n"
     ]
    }
   ],
   "source": [
    "# ajustar una recta a los datos, basado en el modelo lineal log10(b1/b2) = a + b log10(r1/r2)\n",
    "# cargamos la librería statsmodels\n",
    "import statsmodels.api as sm\n",
    "\n",
    "# ajustamos el modelo\n",
    "x = np.log10(matching_data['r1']/matching_data['r2'])\n",
    "X = sm.add_constant(x)\n",
    "y = np.log10(matching_data['b1']/matching_data['b2'])\n",
    "model = sm.OLS(y, X)\n",
    "results = model.fit()\n",
    "print(results.summary())"
   ]
  },
  {
   "attachments": {},
   "cell_type": "markdown",
   "metadata": {},
   "source": [
    "De todos estos resultados, los más importantes son:\n",
    "\n",
    "1. $R^2$ es una medida de bondad de ajuste. Se puede interpretar como la proporción de la varianza de la variable dependiente que se explica por el modelo. En este caso, el modelo explica el 93.3% de la varianza de la variable dependiente. \n",
    "2. El estadístico F es una prueba de hipótesis que evalúa si el modelo es significativamente mejor que un modelo que no incluye ninguna variable independiente. Si el valor p asociado al estadístico F es menor que el nivel de significancia, entonces se rechaza la hipótesis nula de que el modelo no es significativamente mejor que un modelo sin variables independientes. \n",
    "3. Los coeficientes de regresión $a$ y $b$ son estimaciones de los parámetros del modelo. En este caso, $a = 0.01$ y $b = 0.705$. En el contexto de la ley de igualación, $a$ es un término de sesgo que se puede interpretar como una preferencia asimétrica por alguna actividad cuando no se entregan reforzadores. Si su valor es negativo, indicaría una tendencia a pasar más tiempo en la actividad que compite con la del numerador. $b$ indica la tendencia a pasar más tiempo en la alternativa con la menor proporción de reforzadores, si su valor es menor a 1 (subigualación), o la tendencia pasar más tiempo en la alternativa con la mayor proporción de reforzadores (fenómeno referido como sobreigualación) si su valor es mayor a 1. \n",
    "4. El estadístico t asociado a los parámetros $a$ y $b$ es una prueba de hipótesis que evalúa si los parámetros son significativamente diferentes de cero. Si el valor p asociado al estadístico t es menor que el nivel de significancia, entonces se rechaza la hipótesis nula de que el parámetro es cero."
   ]
  },
  {
   "attachments": {},
   "cell_type": "markdown",
   "metadata": {},
   "source": [
    "La parte `sm.add_constant` agrega una columna de unos a la matriz de datos, para que el modelo lineal pueda estimar el intercepto $a$. Si no se agregara esta columna, el modelo lineal estimaría el intercepto como cero.\n",
    "\n"
   ]
  },
  {
   "attachments": {},
   "cell_type": "markdown",
   "metadata": {},
   "source": [
    "Agregaremos la línea de ajuste al gráfico anterior"
   ]
  },
  {
   "cell_type": "code",
   "execution_count": null,
   "metadata": {},
   "outputs": [],
   "source": [
    "# graficar log10(b1/b2) vs log10(r1/r2)\n",
    "plt.scatter(np.log10(matching_data['r1']/matching_data['r2']), \n",
    "            np.log10(matching_data['b1']/matching_data['b2']))\n",
    "plt.ylabel('log10 (b1/b2)')\n",
    "plt.xlabel('log10 (r1/r2)')\n",
    "\n",
    "# agregar línea de ajuste\n",
    "\n"
   ]
  },
  {
   "attachments": {},
   "cell_type": "markdown",
   "metadata": {},
   "source": [
    "## Modelos no lineales\n",
    "\n",
    "Los modelos no lineales son funciones que no se pueden escribir como una combinación lineal de parámetros. Estos modelos implican operaciones como exponenciación, logaritmos, raíces cuadradas, etc. \n",
    "\n",
    "Se debe diferenciar entre modelos no lineales y modelos no lineales en los parámetros. Por ejemplo, el modelo $y = a + bx^2$ es un modelo lineal en los parámetros, pero no lineal en $x$, dado que el término en $x$ aparece elevado al cuadrado, pero los parámetros $a$ y $b$ tienen exponente 1. \n",
    "\n",
    "En estadística estamos siempre interesados en estimar valores que pueden tomar los parámetros, por eso, cuando hablamos de modelos lineales o no lineales, nos referimos a modelos lineales o no lineales en los parámetros, no en las variables independientes ($x$).\n",
    "\n",
    "Ejemplos de modelos no lineales en psicología:\n",
    "\n",
    "* Ley de Fechner: $S = k \\log (I)$\n",
    "\n",
    "en donde $S$ es la sensación, $I$ es la intensidad del estímulo y $k$ es una constante.\n",
    "\n",
    "* Función de descuento hiperbólico: $V = \\frac{A}{1 + kD}$\n",
    "\n",
    "en donde $V$ es el valor de un reforzador, $A$ es el valor máximo del reforzador, $D$ es el retraso/demora del reforzador y $k$ es una constante.\n",
    "\n",
    "* Función de decaimiento exponencial de la memoria: $R = e^{-t/S}$\n",
    "\n",
    "en donde $R$ es la recuperabilidad (la cantidad de información que se puede recuperar transcurrido $t$ tiempo), y $S$ es la constante de decaimiento."
   ]
  },
  {
   "attachments": {},
   "cell_type": "markdown",
   "metadata": {},
   "source": [
    "Cargaremos los datos de un ejemplo ficticio de una tarea de descuento temporal. En esta tarea, los participantes deben elegir entre recibir $A$ dólares hoy, o $B$ dólares en $D$ días. Una forma es en la que se presentan estos pares de opciones a participantes, y se varía el valor de $D$ (el tiempo que tarda en recibir la cantidad $B$), y se coloca el valor de $D$ para el cual $A$ tiene el mismo valor que $B$ (el punto de indiferencia) en el eje de las abscisas. Luego se prueba otro par de valores de $A$ y $B$, y se repite este procedimiento para varios pares de valores de $A$ y $B$.\n",
    "\n",
    "Dado que el valor subjetivo V está normalizado entre 0 y 1, se puede usar el modelo\n",
    "\n",
    "$V = \\frac{1}{1 + kD}$"
   ]
  },
  {
   "cell_type": "code",
   "execution_count": 8,
   "metadata": {},
   "outputs": [
    {
     "data": {
      "text/html": [
       "<div>\n",
       "<style scoped>\n",
       "    .dataframe tbody tr th:only-of-type {\n",
       "        vertical-align: middle;\n",
       "    }\n",
       "\n",
       "    .dataframe tbody tr th {\n",
       "        vertical-align: top;\n",
       "    }\n",
       "\n",
       "    .dataframe thead th {\n",
       "        text-align: right;\n",
       "    }\n",
       "</style>\n",
       "<table border=\"1\" class=\"dataframe\">\n",
       "  <thead>\n",
       "    <tr style=\"text-align: right;\">\n",
       "      <th></th>\n",
       "      <th>Unnamed: 0</th>\n",
       "      <th>norm_sv</th>\n",
       "      <th>Delay</th>\n",
       "    </tr>\n",
       "  </thead>\n",
       "  <tbody>\n",
       "    <tr>\n",
       "      <th>0</th>\n",
       "      <td>1</td>\n",
       "      <td>0.934</td>\n",
       "      <td>1</td>\n",
       "    </tr>\n",
       "    <tr>\n",
       "      <th>1</th>\n",
       "      <td>2</td>\n",
       "      <td>0.746</td>\n",
       "      <td>6</td>\n",
       "    </tr>\n",
       "    <tr>\n",
       "      <th>2</th>\n",
       "      <td>3</td>\n",
       "      <td>0.746</td>\n",
       "      <td>12</td>\n",
       "    </tr>\n",
       "    <tr>\n",
       "      <th>3</th>\n",
       "      <td>4</td>\n",
       "      <td>0.488</td>\n",
       "      <td>36</td>\n",
       "    </tr>\n",
       "    <tr>\n",
       "      <th>4</th>\n",
       "      <td>5</td>\n",
       "      <td>0.450</td>\n",
       "      <td>60</td>\n",
       "    </tr>\n",
       "    <tr>\n",
       "      <th>5</th>\n",
       "      <td>6</td>\n",
       "      <td>0.441</td>\n",
       "      <td>120</td>\n",
       "    </tr>\n",
       "  </tbody>\n",
       "</table>\n",
       "</div>"
      ],
      "text/plain": [
       "   Unnamed: 0  norm_sv  Delay\n",
       "0           1    0.934      1\n",
       "1           2    0.746      6\n",
       "2           3    0.746     12\n",
       "3           4    0.488     36\n",
       "4           5    0.450     60\n",
       "5           6    0.441    120"
      ]
     },
     "execution_count": 8,
     "metadata": {},
     "output_type": "execute_result"
    }
   ],
   "source": [
    "# cargar datos de descuento\n",
    "\n",
    "dd_data = pd.read_csv('../datasets/dd_data.csv')\n",
    "\n",
    "dd_data"
   ]
  },
  {
   "cell_type": "code",
   "execution_count": 13,
   "metadata": {},
   "outputs": [
    {
     "data": {
      "text/plain": [
       "Text(0, 0.5, 'Normalized subjective value')"
      ]
     },
     "execution_count": 13,
     "metadata": {},
     "output_type": "execute_result"
    },
    {
     "data": {
      "image/png": "[encoded data removed]",
      "text/plain": [
       "<Figure size 640x480 with 1 Axes>"
      ]
     },
     "metadata": {},
     "output_type": "display_data"
    }
   ],
   "source": [
    "# graficamos los datos, norm_sv es el valor subjetivo normalizado\n",
    "# delay es el tiempo de espera en días\n",
    "\n",
    "plt.plot(dd_data['Delay'], \n",
    "         dd_data['norm_sv'], \n",
    "         'ko')\n",
    "# límites de y entre 0 y 1\n",
    "plt.ylim([0, 1])\n",
    "plt.xlabel('Delay (days)')\n",
    "plt.ylabel('Normalized subjective value')"
   ]
  },
  {
   "attachments": {},
   "cell_type": "markdown",
   "metadata": {},
   "source": [
    "Ajustamos $V = \\frac{1}{1 + kD}$"
   ]
  },
  {
   "cell_type": "code",
   "execution_count": 14,
   "metadata": {},
   "outputs": [
    {
     "name": "stdout",
     "output_type": "stream",
     "text": [
      "Fitted value of k: 1.1925957559997817\n"
     ]
    }
   ],
   "source": [
    "# ajustar v = 1/(1 + kD) a los datos\n",
    "from scipy.optimize import curve_fit\n",
    "\n",
    "# Define the non-linear model function\n",
    "def non_linear_model(D, k):\n",
    "    return 1 / (1 + k*D)\n",
    "\n",
    "# Generate some example data\n",
    "D = np.array([1, 2, 3, 4, 5])  # Independent variable\n",
    "v = np.array([0.5, 0.3, 0.2, 0.15, 0.1])  # Dependent variable\n",
    "\n",
    "# Fit the model to the data\n",
    "params, params_covariance = curve_fit(non_linear_model, D, v)\n",
    "\n",
    "# Extract the fitted parameter(s)\n",
    "k = params[0]\n",
    "\n",
    "print(\"Fitted value of k:\", k)\n"
   ]
  },
  {
   "cell_type": "code",
   "execution_count": null,
   "metadata": {},
   "outputs": [],
   "source": [
    "# graficar la línea ajustada\n",
    "\n",
    "# graficamos los datos, norm_sv es el valor subjetivo normalizado\n",
    "\n",
    "# delay es el tiempo de espera en días\n",
    "\n"
   ]
  }
 ],
 "metadata": {
  "kernelspec": {
   "display_name": "base",
   "language": "python",
   "name": "python3"
  },
  "language_info": {
   "codemirror_mode": {
    "name": "ipython",
    "version": 3
   },
   "file_extension": ".py",
   "mimetype": "text/x-python",
   "name": "python",
   "nbconvert_exporter": "python",
   "pygments_lexer": "ipython3",
   "version": "3.10.9"
  },
  "orig_nbformat": 4
 },
 "nbformat": 4,
 "nbformat_minor": 2
}
